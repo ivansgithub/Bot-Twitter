{
  "nbformat": 4,
  "nbformat_minor": 0,
  "metadata": {
    "colab": {
      "name": "Copia de Untitled13.ipynb",
      "provenance": [],
      "collapsed_sections": [],
      "toc_visible": true,
      "mount_file_id": "1Lzd5HG9FKab7Vf5ksbfvQXWf0hA2l3E7",
      "authorship_tag": "ABX9TyOgg9+o/dpoZBIM4/d/fo1r",
      "include_colab_link": true
    },
    "kernelspec": {
      "name": "python3",
      "display_name": "Python 3"
    },
    "language_info": {
      "name": "python"
    }
  },
  "cells": [
    {
      "cell_type": "markdown",
      "metadata": {
        "id": "view-in-github",
        "colab_type": "text"
      },
      "source": [
        "<a href=\"https://colab.research.google.com/github/ivansgithub/Bot-Twitter-/blob/main/Copia_de_Untitled13.ipynb\" target=\"_parent\"><img src=\"https://colab.research.google.com/assets/colab-badge.svg\" alt=\"Open In Colab\"/></a>"
      ]
    },
    {
      "cell_type": "code",
      "metadata": {
        "colab": {
          "base_uri": "https://localhost:8080/"
        },
        "id": "E3jgutRK-gYa",
        "outputId": "c187eb7b-7d3d-4e9d-acaf-626cbb014160"
      },
      "source": [
        "!pip install geocoder"
      ],
      "execution_count": 45,
      "outputs": [
        {
          "output_type": "stream",
          "name": "stdout",
          "text": [
            "Collecting geocoder\n",
            "  Downloading geocoder-1.38.1-py2.py3-none-any.whl (98 kB)\n",
            "\u001b[?25l\r\u001b[K     |███▎                            | 10 kB 20.4 MB/s eta 0:00:01\r\u001b[K     |██████▋                         | 20 kB 25.4 MB/s eta 0:00:01\r\u001b[K     |██████████                      | 30 kB 29.0 MB/s eta 0:00:01\r\u001b[K     |█████████████▎                  | 40 kB 32.8 MB/s eta 0:00:01\r\u001b[K     |████████████████▋               | 51 kB 12.2 MB/s eta 0:00:01\r\u001b[K     |████████████████████            | 61 kB 11.6 MB/s eta 0:00:01\r\u001b[K     |███████████████████████▎        | 71 kB 9.3 MB/s eta 0:00:01\r\u001b[K     |██████████████████████████▋     | 81 kB 10.3 MB/s eta 0:00:01\r\u001b[K     |██████████████████████████████  | 92 kB 8.8 MB/s eta 0:00:01\r\u001b[K     |████████████████████████████████| 98 kB 4.3 MB/s \n",
            "\u001b[?25hRequirement already satisfied: six in /usr/local/lib/python3.7/dist-packages (from geocoder) (1.15.0)\n",
            "Requirement already satisfied: click in /usr/local/lib/python3.7/dist-packages (from geocoder) (7.1.2)\n",
            "Collecting ratelim\n",
            "  Downloading ratelim-0.1.6-py2.py3-none-any.whl (4.0 kB)\n",
            "Requirement already satisfied: future in /usr/local/lib/python3.7/dist-packages (from geocoder) (0.16.0)\n",
            "Requirement already satisfied: requests in /usr/local/lib/python3.7/dist-packages (from geocoder) (2.23.0)\n",
            "Requirement already satisfied: decorator in /usr/local/lib/python3.7/dist-packages (from ratelim->geocoder) (4.4.2)\n",
            "Requirement already satisfied: idna<3,>=2.5 in /usr/local/lib/python3.7/dist-packages (from requests->geocoder) (2.10)\n",
            "Requirement already satisfied: chardet<4,>=3.0.2 in /usr/local/lib/python3.7/dist-packages (from requests->geocoder) (3.0.4)\n",
            "Requirement already satisfied: urllib3!=1.25.0,!=1.25.1,<1.26,>=1.21.1 in /usr/local/lib/python3.7/dist-packages (from requests->geocoder) (1.24.3)\n",
            "Requirement already satisfied: certifi>=2017.4.17 in /usr/local/lib/python3.7/dist-packages (from requests->geocoder) (2021.5.30)\n",
            "Installing collected packages: ratelim, geocoder\n",
            "Successfully installed geocoder-1.38.1 ratelim-0.1.6\n"
          ]
        }
      ]
    },
    {
      "cell_type": "code",
      "metadata": {
        "colab": {
          "base_uri": "https://localhost:8080/"
        },
        "id": "YKelNc1gcqnn",
        "outputId": "f405704a-bb7a-404f-d7ba-82b1bf2d1d41"
      },
      "source": [
        "! pip install flask-ngrok"
      ],
      "execution_count": 2,
      "outputs": [
        {
          "output_type": "stream",
          "name": "stdout",
          "text": [
            "Collecting flask-ngrok\n",
            "  Downloading flask_ngrok-0.0.25-py3-none-any.whl (3.1 kB)\n",
            "Requirement already satisfied: requests in /usr/local/lib/python3.7/dist-packages (from flask-ngrok) (2.23.0)\n",
            "Requirement already satisfied: Flask>=0.8 in /usr/local/lib/python3.7/dist-packages (from flask-ngrok) (1.1.4)\n",
            "Requirement already satisfied: itsdangerous<2.0,>=0.24 in /usr/local/lib/python3.7/dist-packages (from Flask>=0.8->flask-ngrok) (1.1.0)\n",
            "Requirement already satisfied: Werkzeug<2.0,>=0.15 in /usr/local/lib/python3.7/dist-packages (from Flask>=0.8->flask-ngrok) (1.0.1)\n",
            "Requirement already satisfied: click<8.0,>=5.1 in /usr/local/lib/python3.7/dist-packages (from Flask>=0.8->flask-ngrok) (7.1.2)\n",
            "Requirement already satisfied: Jinja2<3.0,>=2.10.1 in /usr/local/lib/python3.7/dist-packages (from Flask>=0.8->flask-ngrok) (2.11.3)\n",
            "Requirement already satisfied: MarkupSafe>=0.23 in /usr/local/lib/python3.7/dist-packages (from Jinja2<3.0,>=2.10.1->Flask>=0.8->flask-ngrok) (2.0.1)\n",
            "Requirement already satisfied: urllib3!=1.25.0,!=1.25.1,<1.26,>=1.21.1 in /usr/local/lib/python3.7/dist-packages (from requests->flask-ngrok) (1.24.3)\n",
            "Requirement already satisfied: idna<3,>=2.5 in /usr/local/lib/python3.7/dist-packages (from requests->flask-ngrok) (2.10)\n",
            "Requirement already satisfied: certifi>=2017.4.17 in /usr/local/lib/python3.7/dist-packages (from requests->flask-ngrok) (2021.5.30)\n",
            "Requirement already satisfied: chardet<4,>=3.0.2 in /usr/local/lib/python3.7/dist-packages (from requests->flask-ngrok) (3.0.4)\n",
            "Installing collected packages: flask-ngrok\n",
            "Successfully installed flask-ngrok-0.0.25\n"
          ]
        }
      ]
    },
    {
      "cell_type": "code",
      "metadata": {
        "id": "hX40W4fJck4W"
      },
      "source": [
        "\n",
        "from flask import Flask, render_template,request,redirect,url_for,Flask\n",
        "from flask_ngrok import run_with_ngrok\n",
        "import os \n",
        "import requests\n",
        "import json\n",
        "import geocoder\n",
        "import pprint\n",
        "import datetime, pytz\n"
      ],
      "execution_count": 3,
      "outputs": []
    },
    {
      "cell_type": "code",
      "metadata": {
        "id": "bUOjNHMejeqB"
      },
      "source": [
        "os.mkdir('static')\n",
        "os.mkdir('templates')"
      ],
      "execution_count": 8,
      "outputs": []
    },
    {
      "cell_type": "code",
      "metadata": {
        "colab": {
          "base_uri": "https://localhost:8080/"
        },
        "id": "lWMpaTJTciRN",
        "outputId": "666910a2-fa05-49d5-bed0-5d80011634dc"
      },
      "source": [
        "\n",
        "app = Flask(__name__)\n",
        "run_with_ngrok(app)   \n",
        "  \n",
        "\n",
        "@app.route('/', methods=['GET','POST'])\n",
        "def submitForm():\n",
        "  labels=''\n",
        "  values=''\n",
        "  if request.method == 'POST':\n",
        "        tts = request.form['select1']\n",
        "        tts2 = request.form['select2']\n",
        "        \n",
        "        g = geocoder.ip('me')\n",
        "        lat=(g.latlng)[0]\n",
        "        lon=(g.latlng)[1]\n",
        "\n",
        "\n",
        "\n",
        "        exclude=(str(tts))\n",
        "\n",
        "        parameter=(str(tts2))\n",
        "\n",
        "        \n",
        "        r=requests.get('https://api.openweathermap.org/data/2.5/onecall?lat='+str(lat)+'&lon='+str(lon)+'&lang=pt_br'+'&appid=029e4d13d05bab8a91e8fbe876e20239&units=metric')\n",
        "\n",
        "       \n",
        "\n",
        "        weather_data = r.json()\n",
        "\n",
        "        if exclude=='3h':\n",
        "            labels=[]\n",
        "            values=[]\n",
        "            for i in weather_data['hourly'][::3]:\n",
        "                local_time = datetime.datetime.fromtimestamp(i['dt'])\n",
        "                str_time = local_time.strftime( '%H:%M:%S %Y-%m-%d %a' )\n",
        "                labels.append(str_time)\n",
        "                values.append(i['temp'])\n",
        "        elif exclude=='24h':\n",
        "\n",
        "            labels=[]\n",
        "            values=[]\n",
        "            for i in weather_data['daily']:\n",
        "                local_time = datetime.datetime.fromtimestamp(i['dt'])\n",
        "                str_time = local_time.strftime( '%H:%M:%S %Y-%m-%d %a' )\n",
        "                labels.append(str_time)\n",
        "                values.append(i['temp']['max'])\n",
        "        elif exclude=='9h':\n",
        "            labels=[]\n",
        "            values=[]\n",
        "            for i in weather_data['hourly'][::9]:\n",
        "                local_time = datetime.datetime.fromtimestamp(i['dt'])\n",
        "                str_time = local_time.strftime( '%H:%M:%S %Y-%m-%d %a' )\n",
        "                labels.append(str_time)\n",
        "                values.append(i['temp'])\n",
        "        elif exclude=='12h':\n",
        "            labels=[]\n",
        "            values=[]\n",
        "            for i in weather_data['hourly'][::12]:\n",
        "                local_time = datetime.datetime.fromtimestamp(i['dt'])\n",
        "                str_time = local_time.strftime( '%H:%M:%S %Y-%m-%d %a' )\n",
        "                labels.append(str_time)\n",
        "                values.append(i['temp'])\n",
        "        elif exclude=='24h':\n",
        "            labels=[]\n",
        "            values=[]\n",
        "            for i in weather_data['daily']:\n",
        "                local_time = datetime.datetime.fromtimestamp(i['dt'])\n",
        "                str_time = local_time.strftime( '%H:%M:%S %Y-%m-%d %a' )\n",
        "                labels.append(str_time)\n",
        "                values.append(i['temp'][parameter])\n",
        "                \n",
        "                \n",
        "            \n",
        "        elif exclude== '48h':\n",
        "            labels=[]\n",
        "            values=[]\n",
        "              for i in weather_data['daily'][::2]:\n",
        "                local_time = datetime.datetime.fromtimestamp(i['dt'])\n",
        "                str_time = local_time.strftime( '%H:%M:%S %Y-%m-%d %a' )\n",
        "                labels.append(str_time)\n",
        "                values.append(i['temp'][parameter])\n",
        "            \n",
        "    \n",
        "    \n",
        "            \n",
        "    \n",
        "\n",
        "\n",
        "\n",
        "  return render_template('br.html',labels=labels,values=values)\n",
        "\n",
        "\n",
        "\n",
        "if __name__ == '__main__':\n",
        "    app.run()"
      ],
      "execution_count": 10,
      "outputs": [
        {
          "output_type": "stream",
          "name": "stdout",
          "text": [
            " * Serving Flask app \"__main__\" (lazy loading)\n",
            " * Environment: production\n",
            "\u001b[31m   WARNING: This is a development server. Do not use it in a production deployment.\u001b[0m\n",
            "\u001b[2m   Use a production WSGI server instead.\u001b[0m\n",
            " * Debug mode: off\n"
          ]
        },
        {
          "output_type": "stream",
          "name": "stderr",
          "text": [
            " * Running on http://127.0.0.1:5000/ (Press CTRL+C to quit)\n"
          ]
        },
        {
          "output_type": "stream",
          "name": "stdout",
          "text": [
            " * Running on http://98e0-34-105-93-33.ngrok.io\n",
            " * Traffic stats available on http://127.0.0.1:4040\n"
          ]
        }
      ]
    }
  ]
}